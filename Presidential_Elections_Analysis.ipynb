{
 "cells": [
  {
   "cell_type": "code",
   "execution_count": 45,
   "id": "0dd0ee05-f7eb-4006-885e-8f27054abd67",
   "metadata": {
    "tags": []
   },
   "outputs": [
    {
     "name": "stdout",
     "output_type": "stream",
     "text": [
      "Requirement already satisfied: pandas in /opt/conda/lib/python3.11/site-packages (2.1.4)\n",
      "Requirement already satisfied: matplotlib in ./.local/lib/python3.11/site-packages (3.8.2)\n",
      "Requirement already satisfied: numpy<2,>=1.23.2 in /opt/conda/lib/python3.11/site-packages (from pandas) (1.26.3)\n",
      "Requirement already satisfied: python-dateutil>=2.8.2 in /opt/conda/lib/python3.11/site-packages (from pandas) (2.8.2)\n",
      "Requirement already satisfied: pytz>=2020.1 in /opt/conda/lib/python3.11/site-packages (from pandas) (2023.3.post1)\n",
      "Requirement already satisfied: tzdata>=2022.1 in /opt/conda/lib/python3.11/site-packages (from pandas) (2023.4)\n",
      "Requirement already satisfied: contourpy>=1.0.1 in ./.local/lib/python3.11/site-packages (from matplotlib) (1.2.0)\n",
      "Requirement already satisfied: cycler>=0.10 in ./.local/lib/python3.11/site-packages (from matplotlib) (0.12.1)\n",
      "Requirement already satisfied: fonttools>=4.22.0 in ./.local/lib/python3.11/site-packages (from matplotlib) (4.47.0)\n",
      "Requirement already satisfied: kiwisolver>=1.3.1 in ./.local/lib/python3.11/site-packages (from matplotlib) (1.4.5)\n",
      "Requirement already satisfied: packaging>=20.0 in /opt/conda/lib/python3.11/site-packages (from matplotlib) (23.2)\n",
      "Requirement already satisfied: pillow>=8 in /opt/conda/lib/python3.11/site-packages (from matplotlib) (10.2.0)\n",
      "Requirement already satisfied: pyparsing>=2.3.1 in ./.local/lib/python3.11/site-packages (from matplotlib) (3.1.1)\n",
      "Requirement already satisfied: six>=1.5 in /opt/conda/lib/python3.11/site-packages (from python-dateutil>=2.8.2->pandas) (1.16.0)\n",
      "Note: you may need to restart the kernel to use updated packages.\n"
     ]
    }
   ],
   "source": [
    "pip install pandas matplotlib\n"
   ]
  },
  {
   "cell_type": "code",
   "execution_count": 46,
   "id": "d29a9434-df85-4303-b297-498fc809385c",
   "metadata": {
    "tags": []
   },
   "outputs": [
    {
     "name": "stdout",
     "output_type": "stream",
     "text": [
      "        STATE  Joseph R. Biden Votes  Joseph R. Biden %  Joseph R. Biden EV  \\\n",
      "0     Alabama               849624.0              36.57                 NaN   \n",
      "1      Alaska               153778.0              42.77                 NaN   \n",
      "2     Arizona              1672143.0              49.36                11.0   \n",
      "3    Arkansas               423932.0              34.78                 NaN   \n",
      "4  California             11110250.0              63.48                55.0   \n",
      "\n",
      "   Donald Trump Votes  Donald Trump %  Donald Trump EV State_Code  \n",
      "0           1441170.0           62.03              9.0         AL  \n",
      "1            189951.0           52.83              3.0         AK  \n",
      "2           1661686.0           49.06              NaN         AZ  \n",
      "3            760647.0           62.40              6.0         AR  \n",
      "4           6006429.0           34.32              NaN         CA  \n",
      "        STATE  Kamala Harris Votes  Kamala Harris %  Kamala Harris EV  \\\n",
      "0     Alabama             769391.0             34.1                 0   \n",
      "1      Alaska             139812.0             41.4                 0   \n",
      "2     Arizona            1582860.0             46.7                 0   \n",
      "3    Arkansas             396905.0             33.5                 0   \n",
      "4  California            9183800.0             58.6                54   \n",
      "\n",
      "   Donald Trump Votes  Donald Trump %  Donald Trump EV State_Code  \n",
      "0           1457704.0            64.6              9.0         AL  \n",
      "1            184204.0            54.5              3.0         AK  \n",
      "2           1770242.0            52.2             11.0         AZ  \n",
      "3            759241.0            64.2              6.0         AR  \n",
      "4           5988823.0            38.2              0.0         CA  \n"
     ]
    }
   ],
   "source": [
    "import pandas as pd\n",
    "\n",
    "# Load the 2020 dataset (replace the file path with your dataset path)\n",
    "data_2020 = pd.read_csv(\"2020_election_results_with_state_code.csv\")\n",
    "data_2024 = pd.read_csv(\"2024_election_results_with_state_code.csv\")\n",
    "\n",
    "print(data_2020.head())\n",
    "print(data_2024.head())"
   ]
  },
  {
   "cell_type": "markdown",
   "id": "74bf095d-0a3d-4621-95a1-e8be98cd1353",
   "metadata": {},
   "source": [
    "Data Preprocessing - Identifying null values, and filling them with 0\n"
   ]
  },
  {
   "cell_type": "code",
   "execution_count": 47,
   "id": "a1ffb376-7352-48fd-8fec-8966d9eb9e13",
   "metadata": {
    "tags": []
   },
   "outputs": [
    {
     "name": "stdout",
     "output_type": "stream",
     "text": [
      "        STATE  Biden Votes  Biden %  Biden EV  Trump Votes  Trump %  Trump EV  \\\n",
      "0     Alabama     849624.0    36.57       0.0    1441170.0    62.03       9.0   \n",
      "1      Alaska     153778.0    42.77       0.0     189951.0    52.83       3.0   \n",
      "2     Arizona    1672143.0    49.36      11.0    1661686.0    49.06       0.0   \n",
      "3    Arkansas     423932.0    34.78       0.0     760647.0    62.40       6.0   \n",
      "4  California   11110250.0    63.48      55.0    6006429.0    34.32       0.0   \n",
      "\n",
      "  State_Code  \n",
      "0         AL  \n",
      "1         AK  \n",
      "2         AZ  \n",
      "3         AR  \n",
      "4         CA  \n",
      "        STATE  Kamala Votes  Kamala %  Kamala EV  Trump Votes  Trump %  \\\n",
      "0     Alabama      769391.0      34.1          0    1457704.0     64.6   \n",
      "1      Alaska      139812.0      41.4          0     184204.0     54.5   \n",
      "2     Arizona     1582860.0      46.7          0    1770242.0     52.2   \n",
      "3    Arkansas      396905.0      33.5          0     759241.0     64.2   \n",
      "4  California     9183800.0      58.6         54    5988823.0     38.2   \n",
      "\n",
      "   Trump EV State_Code  \n",
      "0       9.0         AL  \n",
      "1       3.0         AK  \n",
      "2      11.0         AZ  \n",
      "3       6.0         AR  \n",
      "4       0.0         CA  \n"
     ]
    }
   ],
   "source": [
    "#Filling the null values with 0\n",
    "data_2020[\"Joseph R. Biden Votes\"].fillna(0, inplace=True)\n",
    "data_2020[\"Joseph R. Biden %\"].fillna(0, inplace=True)\n",
    "data_2020[\"Joseph R. Biden EV\"].fillna(0, inplace=True)\n",
    "data_2020[\"Donald Trump Votes\"].fillna(0, inplace=True)\n",
    "data_2020[\"Donald Trump %\"].fillna(0, inplace=True)\n",
    "data_2020[\"Donald Trump EV\"].fillna(0, inplace=True)\n",
    "\n",
    "data_2024[\"Kamala Harris Votes\"].fillna(0, inplace=True)\n",
    "data_2024[\"Kamala Harris %\"].fillna(0, inplace=True)\n",
    "data_2024[\"Kamala Harris EV\"].fillna(0, inplace=True)\n",
    "data_2024[\"Donald Trump Votes\"].fillna(0, inplace=True)\n",
    "data_2024[\"Donald Trump %\"].fillna(0, inplace=True)\n",
    "data_2024[\"Donald Trump EV\"].fillna(0, inplace=True)\n",
    "\n",
    "## Standardize column names\n",
    "data_2020.rename(columns={\"Joseph R. Biden Votes\": \"Biden Votes\",\"Joseph R. Biden %\": \"Biden %\",\"Joseph R. Biden EV\": \"Biden EV\",  \"Donald Trump Votes\": \"Trump Votes\", \"Donald Trump %\": \"Trump %\",\"Donald Trump EV\": \"Trump EV\"}, inplace=True)\n",
    "data_2024.rename(columns={\"Kamala Harris Votes\": \"Kamala Votes\", \"Kamala Harris %\": \"Kamala %\", \"Kamala Harris EV\": \"Kamala EV\",\"Donald Trump Votes\": \"Trump Votes\", \"Donald Trump %\": \"Trump %\",\"Donald Trump EV\": \"Trump EV\"}, inplace=True)\n",
    "\n",
    "\n",
    "print(data_2020.head())\n",
    "\n",
    "print(data_2024.head())\n",
    "\n",
    "\n",
    "#making  a copy of the data\n",
    "copy_data_2020 = data_2020.copy()\n",
    "copy_data_2024 = data_2024.copy()\n"
   ]
  },
  {
   "cell_type": "markdown",
   "id": "3a4f2af8-4552-4638-815a-4608d6712f94",
   "metadata": {},
   "source": [
    "**Q1) Process one collection of data and summarize information from several fields.**\n",
    "\n",
    "We will take the 2024_election_results_with_state_code data first\n",
    "\n",
    "Here I have done the summarization of the 2024 (current) presidential elections and summarizing the total votes each candidate has recieved, Total % recieved and total EV votes recieved"
   ]
  },
  {
   "cell_type": "code",
   "execution_count": 56,
   "id": "c32ff093-9741-47db-8f8b-f88ac902b796",
   "metadata": {
    "tags": []
   },
   "outputs": [
    {
     "name": "stdout",
     "output_type": "stream",
     "text": [
      "Summary of 2024 Election Data\n",
      "   Total Votes (Kamala)  Average % (Kamala)  Total Electoral Votes (Kamala)  \\\n",
      "0            73857695.0           43.501961                             266   \n",
      "\n",
      "   Total Votes (Trump)  Average % (Trump)  Total Electoral Votes (Trump)  \n",
      "0           76943544.0          50.619608                          253.0  \n"
     ]
    }
   ],
   "source": [
    "# Summarize total votes and percentage for each candidate\n",
    "summary_2024 = {\n",
    "    \"Total Votes (Kamala)\": copy_data_2024[\"Kamala Votes\"].sum(),\n",
    "    \"Average % (Kamala)\": copy_data_2024[\"Kamala %\"].mean(),\n",
    "    \"Total Electoral Votes (Kamala)\": copy_data_2024[\"Kamala EV\"].sum(),\n",
    "    \"Total Votes (Trump)\": copy_data_2024[\"Trump Votes\"].sum(),\n",
    "    \"Average % (Trump)\": copy_data_2024[\"Trump %\"].mean(),\n",
    "    \"Total Electoral Votes (Trump)\": copy_data_2024[\"Trump EV\"].sum(),\n",
    "}\n",
    "\n",
    "# Convert to DataFrame for display\n",
    "summary_df_2024 = pd.DataFrame([summary_2024])\n",
    "print(\"Summary of 2024 Election Data\")\n",
    "print(summary_df_2024)\n",
    "\n",
    "#save the dataframe as a csv file\n",
    "summary_df_2024.to_csv(\"summary_df_2024_Q1.csv\")\n"
   ]
  },
  {
   "cell_type": "markdown",
   "id": "744c9c8b-5b11-40a7-8fb6-094e44753b6e",
   "metadata": {},
   "source": [
    "\n",
    "\n",
    "**Key Findings from this Q1 analysis:**\n",
    "1) We can see that in 2024 elections, **Kamala Harris** recieved **73857695** total votes and her average percentage was **43.50%**\n",
    "2) On the other hand, we can see that **Donald Trump** has recieved **76943544** total votes and his average percentage was **50.61**\n",
    "3) Additionally one interesting thing which we can notice is Total Electoral votes of kamala harris is 266 and that of donald trump is 253 which is less than kamala. This usually happens when:\n",
    "   \n",
    "   a) **Kamala Wins High-EV States:**\n",
    "\n",
    "    Kamala's EVs are higher because she likely won states like California, New York, Illinois, and other Democratic-leaning large states with significant EV counts.\n",
    "    These states contribute disproportionately to her EV total.\n",
    "    Trump Wins Popular Vote in Strongholds:\n",
    "\n",
    "    b) **Trump wins more total popular votes due to sweeping victories in Republican strongholds (e.g., Alabama, Texas, and other rural states).**\n",
    "    These states often have fewer EVs relative to their population sizes.\n",
    "    Overall Summary:\n",
    "\n",
    "**Kamala Harris: Secured 266 EVs by winning key states with high EV counts.**\n",
    "\n",
    "**Donald Trump: Secured 253 EVs despite having more total popular votes because his victories were concentrated in smaller states with lower EVs**\n"
   ]
  },
  {
   "cell_type": "markdown",
   "id": "52b6081c-bc18-4575-b948-135d7e742db2",
   "metadata": {},
   "source": [
    "**Q2) Process one collection of data and separate it into different categories and\n",
    "provided summary statistics on those categories.**\n",
    "\n",
    "Categorize the 2024 Data\n",
    "Categorize states into:\n",
    "Kamala Stronghold: Kamala Harris won > 60%.\n",
    "Trump Stronghold: Donald Trump won > 60%.\n",
    "Swing State: Neither candidate received > 60%."
   ]
  },
  {
   "cell_type": "code",
   "execution_count": 57,
   "id": "0e9bc9ae-cf9c-4be3-b944-2e8e7cf45a01",
   "metadata": {
    "tags": []
   },
   "outputs": [
    {
     "name": "stdout",
     "output_type": "stream",
     "text": [
      "\n",
      "Category Summary Statistics (2024 Elections):\n",
      "                   Kamala Votes  Trump Votes   Kamala %    Trump %  \\\n",
      "Category                                                             \n",
      "Kamala Stronghold     4170909.0    2568970.0  62.466667  34.433333   \n",
      "Swing State          64244101.0   64046111.0  45.525000  47.063889   \n",
      "Trump Stronghold      5442685.0   10328463.0  32.691667  65.333333   \n",
      "\n",
      "                   Number of States  \n",
      "Category                             \n",
      "Kamala Stronghold                 3  \n",
      "Swing State                      36  \n",
      "Trump Stronghold                 12  \n"
     ]
    },
    {
     "data": {
      "text/html": [
       "<div>\n",
       "<style scoped>\n",
       "    .dataframe tbody tr th:only-of-type {\n",
       "        vertical-align: middle;\n",
       "    }\n",
       "\n",
       "    .dataframe tbody tr th {\n",
       "        vertical-align: top;\n",
       "    }\n",
       "\n",
       "    .dataframe thead th {\n",
       "        text-align: right;\n",
       "    }\n",
       "</style>\n",
       "<table border=\"1\" class=\"dataframe\">\n",
       "  <thead>\n",
       "    <tr style=\"text-align: right;\">\n",
       "      <th></th>\n",
       "      <th>STATE</th>\n",
       "      <th>Kamala Votes</th>\n",
       "      <th>Kamala %</th>\n",
       "      <th>Kamala EV</th>\n",
       "      <th>Trump Votes</th>\n",
       "      <th>Trump %</th>\n",
       "      <th>Trump EV</th>\n",
       "      <th>State_Code</th>\n",
       "      <th>Category</th>\n",
       "    </tr>\n",
       "  </thead>\n",
       "  <tbody>\n",
       "    <tr>\n",
       "      <th>0</th>\n",
       "      <td>Alabama</td>\n",
       "      <td>769391.0</td>\n",
       "      <td>34.1</td>\n",
       "      <td>0</td>\n",
       "      <td>1457704.0</td>\n",
       "      <td>64.6</td>\n",
       "      <td>9.0</td>\n",
       "      <td>AL</td>\n",
       "      <td>Trump Stronghold</td>\n",
       "    </tr>\n",
       "    <tr>\n",
       "      <th>1</th>\n",
       "      <td>Alaska</td>\n",
       "      <td>139812.0</td>\n",
       "      <td>41.4</td>\n",
       "      <td>0</td>\n",
       "      <td>184204.0</td>\n",
       "      <td>54.5</td>\n",
       "      <td>3.0</td>\n",
       "      <td>AK</td>\n",
       "      <td>Swing State</td>\n",
       "    </tr>\n",
       "    <tr>\n",
       "      <th>2</th>\n",
       "      <td>Arizona</td>\n",
       "      <td>1582860.0</td>\n",
       "      <td>46.7</td>\n",
       "      <td>0</td>\n",
       "      <td>1770242.0</td>\n",
       "      <td>52.2</td>\n",
       "      <td>11.0</td>\n",
       "      <td>AZ</td>\n",
       "      <td>Swing State</td>\n",
       "    </tr>\n",
       "    <tr>\n",
       "      <th>3</th>\n",
       "      <td>Arkansas</td>\n",
       "      <td>396905.0</td>\n",
       "      <td>33.5</td>\n",
       "      <td>0</td>\n",
       "      <td>759241.0</td>\n",
       "      <td>64.2</td>\n",
       "      <td>6.0</td>\n",
       "      <td>AR</td>\n",
       "      <td>Trump Stronghold</td>\n",
       "    </tr>\n",
       "    <tr>\n",
       "      <th>4</th>\n",
       "      <td>California</td>\n",
       "      <td>9183800.0</td>\n",
       "      <td>58.6</td>\n",
       "      <td>54</td>\n",
       "      <td>5988823.0</td>\n",
       "      <td>38.2</td>\n",
       "      <td>0.0</td>\n",
       "      <td>CA</td>\n",
       "      <td>Swing State</td>\n",
       "    </tr>\n",
       "  </tbody>\n",
       "</table>\n",
       "</div>"
      ],
      "text/plain": [
       "        STATE  Kamala Votes  Kamala %  Kamala EV  Trump Votes  Trump %  \\\n",
       "0     Alabama      769391.0      34.1          0    1457704.0     64.6   \n",
       "1      Alaska      139812.0      41.4          0     184204.0     54.5   \n",
       "2     Arizona     1582860.0      46.7          0    1770242.0     52.2   \n",
       "3    Arkansas      396905.0      33.5          0     759241.0     64.2   \n",
       "4  California     9183800.0      58.6         54    5988823.0     38.2   \n",
       "\n",
       "   Trump EV State_Code          Category  \n",
       "0       9.0         AL  Trump Stronghold  \n",
       "1       3.0         AK       Swing State  \n",
       "2      11.0         AZ       Swing State  \n",
       "3       6.0         AR  Trump Stronghold  \n",
       "4       0.0         CA       Swing State  "
      ]
     },
     "execution_count": 57,
     "metadata": {},
     "output_type": "execute_result"
    }
   ],
   "source": [
    "# Categorize states based on vote percentages\n",
    "def categorize_state(row):\n",
    "    if row[\"Kamala %\"] > 60:\n",
    "        return \"Kamala Stronghold\"\n",
    "    elif row[\"Trump %\"] > 60:\n",
    "        return \"Trump Stronghold\"\n",
    "    else:\n",
    "        return \"Swing State\"\n",
    "\n",
    "copy_data_2024[\"Category\"] = copy_data_2024.apply(categorize_state, axis=1)\n",
    "\n",
    "# Provide summary statistics for each category\n",
    "category_summary = copy_data_2024.groupby(\"Category\").agg({\n",
    "    \"Kamala Votes\": \"sum\",\n",
    "    \"Trump Votes\": \"sum\",\n",
    "    \"Kamala %\": \"mean\",\n",
    "    \"Trump %\": \"mean\",\n",
    "    \"STATE\": \"count\"\n",
    "}).rename(columns={\"STATE\": \"Number of States\"})\n",
    "\n",
    "# Save the summary to a CSV\n",
    "category_summary.to_csv(\"category_summary_2024_Q2.csv\")\n",
    "print(\"\\nCategory Summary Statistics (2024 Elections):\")\n",
    "print(category_summary)\n",
    "\n",
    "data_2024.head()\n",
    "copy_data_2024.head()"
   ]
  },
  {
   "cell_type": "markdown",
   "id": "57aa90ed-0c66-4c1d-82a1-1e143c5c3939",
   "metadata": {},
   "source": [
    "**Key Analysis from this Q2 performed:**\n",
    "\n",
    "\n",
    "1) Category Classification: States are categorized as **Kamala Stronghold**, **Trump Stronghold**, or **Swing State** based on vote percentages (>60% support for a candidate indicates a stronghold; otherwise, it's a Swing State).\n",
    "\n",
    "2) Swing States Dominate: The majority of states (36 out of 51) are categorized as Swing States, reflecting a competitive electoral environment where neither candidate secured overwhelming support.\n",
    "\n",
    "3) Stronghold Analysis:\n",
    "\n",
    "    a) Kamala Stronghold: Only **3** states showed strong support for Kamala Harris (>60% votes), with a combined total of **~4.17M** votes for her.\n",
    "    \n",
    "    b)Trump Stronghold: Trump dominated in **12 states** (>60% votes), gathering **~10.33M** votes in these regions.\n",
    "    \n",
    "    c) Vote Averages: Swing States have a more balanced average percentage split **(Kamala: ~45.5%, Trump: ~47%)**, indicating close contests in these states.\n"
   ]
  },
  {
   "cell_type": "markdown",
   "id": "10c2cf5f-3eb7-4507-bfb7-b125dbc6c131",
   "metadata": {},
   "source": [
    "**Q3) After the first collection is processed somehow join that or relate it to the\n",
    "second data set. (Whether the second one is summarized or not is up to you)**\n",
    "\n",
    "Here we will join the 2020_election_results_with_state_code dataset with the 2024 one based on the common column named state code\n",
    "we will also derive 4 new columns for further analysis"
   ]
  },
  {
   "cell_type": "code",
   "execution_count": 54,
   "id": "bb017a86-9dd8-4d91-978f-fb65f2401793",
   "metadata": {
    "tags": []
   },
   "outputs": [
    {
     "name": "stdout",
     "output_type": "stream",
     "text": [
      "\n",
      "Merged 2020 and 2024 Election Data with Changes:\n",
      "   STATE_2020  Biden Votes  Biden %  Biden EV  Trump Votes_2020  Trump %_2020  \\\n",
      "0     Alabama     849624.0    36.57       0.0         1441170.0         62.03   \n",
      "1      Alaska     153778.0    42.77       0.0          189951.0         52.83   \n",
      "2     Arizona    1672143.0    49.36      11.0         1661686.0         49.06   \n",
      "3    Arkansas     423932.0    34.78       0.0          760647.0         62.40   \n",
      "4  California   11110250.0    63.48      55.0         6006429.0         34.32   \n",
      "\n",
      "   Trump EV_2020 State_Code  STATE_2024  Kamala Votes  Kamala %  Kamala EV  \\\n",
      "0            9.0         AL     Alabama      769391.0      34.1        0.0   \n",
      "1            3.0         AK      Alaska      139812.0      41.4        0.0   \n",
      "2            0.0         AZ     Arizona     1582860.0      46.7        0.0   \n",
      "3            6.0         AR    Arkansas      396905.0      33.5        0.0   \n",
      "4            0.0         CA  California     9183800.0      58.6       54.0   \n",
      "\n",
      "   Trump Votes_2024  Trump %_2024  Trump EV_2024  Kamala-Biden % Change  \\\n",
      "0         1457704.0          64.6            9.0                  -2.47   \n",
      "1          184204.0          54.5            3.0                  -1.37   \n",
      "2         1770242.0          52.2           11.0                  -2.66   \n",
      "3          759241.0          64.2            6.0                  -1.28   \n",
      "4         5988823.0          38.2            0.0                  -4.88   \n",
      "\n",
      "   Trump % Change  Kamala-Biden Vote Change  Trump Vote Change  \n",
      "0            2.57                  -80233.0            16534.0  \n",
      "1            1.67                  -13966.0            -5747.0  \n",
      "2            3.14                  -89283.0           108556.0  \n",
      "3            1.80                  -27027.0            -1406.0  \n",
      "4            3.88                -1926450.0           -17606.0  \n"
     ]
    }
   ],
   "source": [
    "# Merge 2020 and 2024 datasets on State_Code\n",
    "merged_data = pd.merge(data_2020, data_2024, on=\"State_Code\", how=\"outer\", suffixes=(\"_2020\", \"_2024\"))\n",
    "\n",
    "# Calculate percentage and vote changes\n",
    "merged_data[\"Kamala-Biden % Change\"] = merged_data[\"Kamala %\"] - merged_data[\"Biden %\"]\n",
    "merged_data[\"Trump % Change\"] = merged_data[\"Trump %_2024\"] - merged_data[\"Trump %_2020\"]\n",
    "\n",
    "merged_data[\"Kamala-Biden Vote Change\"] = merged_data[\"Kamala Votes\"] - merged_data[\"Biden Votes\"]\n",
    "merged_data[\"Trump Vote Change\"] = merged_data[\"Trump Votes_2024\"] - merged_data[\"Trump Votes_2020\"]\n",
    "\n",
    "# Drop the last row using iloc\n",
    "merged_data = merged_data.iloc[:-1]\n",
    "\n",
    "\n",
    "# Save the merged data with changes to a CSV\n",
    "merged_data.to_csv(\"merged_2020_2024_elections.csv\", index=False)\n",
    "print(\"\\nMerged 2020 and 2024 Election Data with Changes:\")\n",
    "print(merged_data.head())\n"
   ]
  },
  {
   "cell_type": "markdown",
   "id": "9c7ade62-6246-49c0-a2ae-a61b3e0ef547",
   "metadata": {},
   "source": [
    "**Key Analysis finding from Q3:**\n",
    "\n",
    "The new columns, like **% Change** and **Vote Change**, quantify shifts in voter support and turnout between 2020 and 2024, highlighting trends like Kamala Harris's drop in traditionally Democratic states (e.g., California) and Trump's gains in swing states (e.g., Arizona). These columns simplify analysis, identify battleground shifts, and make performance comparisons straightforward. They are crucial for understanding evolving voter dynamics and informing future campaign strategies. This structured insight enables targeted decision-making for political analysts."
   ]
  },
  {
   "cell_type": "markdown",
   "id": "a4e1aefd-4fa6-45f1-8182-b32968350c2d",
   "metadata": {},
   "source": [
    "**Q4) Process two or more collections of data and compare some summary data about\n",
    "the two collections together.**\n"
   ]
  },
  {
   "cell_type": "code",
   "execution_count": 69,
   "id": "7b3e36e4-92e1-418d-9094-6e04c161e355",
   "metadata": {
    "tags": []
   },
   "outputs": [
    {
     "name": "stdout",
     "output_type": "stream",
     "text": [
      "\n",
      "Comparison of 2020 and 2024 Elections:\n",
      "               Total Votes (Biden)  Average % (Biden)  \\\n",
      "2020 Election           81268773.0          47.703077   \n",
      "2024 Election                  0.0           0.000000   \n",
      "\n",
      "               Total Electoral Votes (Biden)  Total Votes (Trump)  \\\n",
      "2020 Election                          345.0           74216728.0   \n",
      "2024 Election                            0.0           76943544.0   \n",
      "\n",
      "               Average % (Trump)  Total Electoral Votes (Trump)  \\\n",
      "2020 Election          48.268462                          183.0   \n",
      "2024 Election          50.619608                          253.0   \n",
      "\n",
      "               Total Votes (Kamala)  Average % (Kamala)  \\\n",
      "2020 Election                   0.0            0.000000   \n",
      "2024 Election            73857695.0           43.501961   \n",
      "\n",
      "               Total Electoral Votes (Kamala)  \n",
      "2020 Election                             0.0  \n",
      "2024 Election                           266.0  \n"
     ]
    }
   ],
   "source": [
    "# Summarize 2020 data\n",
    "summary_2020 = {\n",
    "    \"Total Votes (Biden)\": copy_data_2020[\"Biden Votes\"].sum(),\n",
    "    \"Average % (Biden)\": copy_data_2020[\"Biden %\"].mean(),\n",
    "    \"Total Electoral Votes (Biden)\": copy_data_2020[\"Biden EV\"].sum(),\n",
    "    \"Total Votes (Trump)\": copy_data_2020[\"Trump Votes\"].sum(),\n",
    "    \"Average % (Trump)\": copy_data_2020[\"Trump %\"].mean(),\n",
    "    \"Total Electoral Votes (Trump)\": copy_data_2020[\"Trump EV\"].sum(),\n",
    "}\n",
    "\n",
    "# Combine summaries into a DataFrame\n",
    "comparison_df = pd.DataFrame([summary_2020, summary_2024], index=[\"2020 Election\", \"2024 Election\"])\n",
    "\n",
    "\n",
    "\n",
    "comparison_df[\"Total Votes (Biden)\"].fillna(0, inplace=True)\n",
    "comparison_df[\"Average % (Biden)\"].fillna(0, inplace=True)\n",
    "comparison_df[\"Total Electoral Votes (Biden)\"].fillna(0, inplace=True)\n",
    "comparison_df[\"Total Votes (Kamala)\"].fillna(0, inplace=True)\n",
    "comparison_df[\"Average % (Kamala)\"].fillna(0, inplace=True)\n",
    "comparison_df[\"Total Electoral Votes (Kamala)\"].fillna(0, inplace=True)\n",
    "\n",
    "\n",
    "\n",
    "# Save the comparison to a CSV\n",
    "comparison_df.to_csv(\"comparison_2020_2024_summary.csv\")\n",
    "print(\"\\nComparison of 2020 and 2024 Elections:\")\n",
    "\n",
    "print(comparison_df.head())\n"
   ]
  },
  {
   "cell_type": "markdown",
   "id": "de42cc28-5691-4fc2-9ba7-12b3bd729cc9",
   "metadata": {},
   "source": [
    "**Key Analysis findings from Q4)**\n",
    "\n",
    "The comparison shows a significant shift in Electoral Votes: Biden secured **345 EVs in 2020**, while Kamala Harris achieved only **266 EVs in 2024**, indicating Democratic losses. Trump's **votes and percentage increased** from **74.2M (48.27%) in 2020** to **76.9M (50.62%) in 2024**, reflecting stronger Republican support. Kamala Harris's **vote count and percentage (43.50%)** were lower than Biden's **(47.70%)**, highlighting a notable decline in Democratic voter turnout or support. This demonstrates a Republican advantage and key challenges for Democrats."
   ]
  },
  {
   "cell_type": "markdown",
   "id": "22b399e7-5337-4a77-a4c5-b32cc27bba91",
   "metadata": {},
   "source": [
    "**Q5) Other Ways of Analysis on merged_df**\n",
    "\n",
    "1) **Vote Percentage Change Analysis**\n",
    "\n",
    "This analysis highlights how voter preferences shifted between 2020 and 2024, showing which states had significant swings in support for Kamala Harris and Donald Trump.\n",
    "    "
   ]
  },
  {
   "cell_type": "code",
   "execution_count": 74,
   "id": "59349930-d9ae-479b-840d-91d4aeae2325",
   "metadata": {
    "tags": []
   },
   "outputs": [
    {
     "data": {
      "image/png": "[encoded data removed]",
      "text/plain": [
       "<Figure size 1500x600 with 1 Axes>"
      ]
     },
     "metadata": {},
     "output_type": "display_data"
    }
   ],
   "source": [
    "import matplotlib.pyplot as plt\n",
    "\n",
    "# Plot percentage change for Kamala and Trump\n",
    "plt.figure(figsize=(15, 6))\n",
    "plt.bar(merged_data[\"State_Code\"], merged_data[\"Kamala-Biden % Change\"], label=\"Kamala-Biden % Change\", alpha=0.7, color='blue')\n",
    "plt.bar(merged_data[\"State_Code\"], merged_data[\"Trump % Change\"], label=\"Trump % Change\", alpha=0.7, color='red')\n",
    "plt.axhline(0, color='gray', linestyle='--', linewidth=1)\n",
    "plt.title(\"State-wise Percentage Change in Votes (2020 vs 2024)\")\n",
    "plt.xlabel(\"State\")\n",
    "plt.ylabel(\"Percentage Change\")\n",
    "plt.xticks(rotation=90)\n",
    "plt.legend()\n",
    "plt.tight_layout()\n",
    "plt.show()\n",
    "\n"
   ]
  },
  {
   "cell_type": "markdown",
   "id": "be1e77e9-44fd-42b1-97c7-6ea1304456ac",
   "metadata": {},
   "source": [
    "**Key findings:**\n",
    "\n",
    "This graph illustrates the percentage change in voter support for **Kamala Harris (blue bars)** and **Donald Trump (red bars)** between the 2020 and 2024 elections across different states.\n",
    "\n",
    "**Blue Bars (Kamala-Biden % Change)**: These bars represent how much the percentage of votes for Kamala Harris in 2024 differed from Joe Biden's percentage in 2020. Negative values indicate a decline in support, while positive values suggest an increase.\n",
    "\n",
    "**Red Bars (Trump % Change):** These bars show the percentage change in support for Donald Trump between the two elections. Positive values indicate increased support, and negative values reflect decreased support.\n",
    "\n",
    "Observations:\n",
    "\n",
    "The largest blue bar drop is in Washington, D.C. (DC), where Kamala Harris experienced a significant decline compared to Biden in 2020. This could be due to various factors, such as voter turnout or changing demographics.\n",
    "\n",
    "In most states, Trump’s red bars are either positive or close to zero, suggesting a slight increase or stability in his support.\n",
    "A few states, like Florida and Texas, show a clear increase in Trump’s percentage (positive red bars) while Kamala Harris's percentage dropped (negative blue bars), highlighting a shift toward Trump in these regions."
   ]
  },
  {
   "cell_type": "markdown",
   "id": "cc02a360-f4ed-4f55-acc8-db81a1a3c59c",
   "metadata": {},
   "source": [
    "**2. State-wise Election Results Visualization: 2024 Presidential Race -  A Map**"
   ]
  },
  {
   "cell_type": "code",
   "execution_count": 80,
   "id": "4fe08ba7-ef97-44ca-b878-9d33c89cb1dc",
   "metadata": {
    "tags": []
   },
   "outputs": [
    {
     "data": {
      "application/vnd.plotly.v1+json": {
       "config": {
        "plotlyServerURL": "https://plot.ly"
       },
       "data": [
        {
         "colorscale": [
          [
           0,
           "red"
          ],
          [
           1,
           "red"
          ]
         ],
         "geo": "geo",
         "hovertemplate": "<b>%{hovertext}</b><br><br>Winner=Trump<br>State_Code=%{location}<extra></extra>",
         "hovertext": [
          "Alabama",
          "Alaska",
          "Arizona",
          "Arkansas",
          "District of Columbia",
          "Florida",
          "Georgia",
          "Hawaii",
          "Idaho",
          "Indiana",
          "Iowa",
          "Kansas",
          "Kentucky",
          "Louisiana",
          "Michigan",
          "Mississippi",
          "Missouri",
          "Montana",
          "Nebraska",
          "Nevada",
          "North Carolina",
          "North Dakota",
          "Ohio",
          "Oklahoma",
          "Pennsylvania",
          "South Carolina",
          "South Dakota",
          "Tennessee",
          "Texas",
          "Utah",
          "West Virginia",
          "Wisconsin",
          "Wyoming"
         ],
         "locationmode": "USA-states",
         "locations": [
          "AL",
          "AK",
          "AZ",
          "AR",
          "DC",
          "FL",
          "GA",
          "HI",
          "ID",
          "IN",
          "IA",
          "KS",
          "KY",
          "LA",
          "MI",
          "MS",
          "MO",
          "MT",
          "NE",
          "NV",
          "NC",
          "ND",
          "OH",
          "OK",
          "PA",
          "SC",
          "SD",
          "TN",
          "TX",
          "UT",
          "WV",
          "WI",
          "WY"
         ],
         "name": "Trump",
         "showlegend": true,
         "showscale": false,
         "type": "choropleth",
         "z": [
          1,
          1,
          1,
          1,
          1,
          1,
          1,
          1,
          1,
          1,
          1,
          1,
          1,
          1,
          1,
          1,
          1,
          1,
          1,
          1,
          1,
          1,
          1,
          1,
          1,
          1,
          1,
          1,
          1,
          1,
          1,
          1,
          1
         ]
        },
        {
         "colorscale": [
          [
           0,
           "blue"
          ],
          [
           1,
           "blue"
          ]
         ],
         "geo": "geo",
         "hovertemplate": "<b>%{hovertext}</b><br><br>Winner=Biden/Harris<br>State_Code=%{location}<extra></extra>",
         "hovertext": [
          "California",
          "Colorado",
          "Connecticut",
          "Delaware",
          "Illinois",
          "Maine",
          "Maryland",
          "Massachusetts",
          "Minnesota",
          "New Hampshire",
          "New Jersey",
          "New Mexico",
          "New York",
          "Oregon",
          "Rhode Island",
          "Vermont",
          "Virginia",
          "Washington"
         ],
         "locationmode": "USA-states",
         "locations": [
          "CA",
          "CO",
          "CT",
          "DE",
          "IL",
          "ME",
          "MD",
          "MA",
          "MN",
          "NH",
          "NJ",
          "NM",
          "NY",
          "OR",
          "RI",
          "VT",
          "VA",
          "WA"
         ],
         "name": "Biden/Harris",
         "showlegend": true,
         "showscale": false,
         "type": "choropleth",
         "z": [
          1,
          1,
          1,
          1,
          1,
          1,
          1,
          1,
          1,
          1,
          1,
          1,
          1,
          1,
          1,
          1,
          1,
          1
         ]
        },
        {
         "locationmode": "USA-states",
         "locations": [
          "AL"
         ],
         "mode": "text",
         "showlegend": false,
         "text": "AL",
         "type": "scattergeo"
        },
        {
         "locationmode": "USA-states",
         "locations": [
          "AK"
         ],
         "mode": "text",
         "showlegend": false,
         "text": "AK",
         "type": "scattergeo"
        },
        {
         "locationmode": "USA-states",
         "locations": [
          "AZ"
         ],
         "mode": "text",
         "showlegend": false,
         "text": "AZ",
         "type": "scattergeo"
        },
        {
         "locationmode": "USA-states",
         "locations": [
          "AR"
         ],
         "mode": "text",
         "showlegend": false,
         "text": "AR",
         "type": "scattergeo"
        },
        {
         "locationmode": "USA-states",
         "locations": [
          "CA"
         ],
         "mode": "text",
         "showlegend": false,
         "text": "CA",
         "type": "scattergeo"
        },
        {
         "locationmode": "USA-states",
         "locations": [
          "CO"
         ],
         "mode": "text",
         "showlegend": false,
         "text": "CO",
         "type": "scattergeo"
        },
        {
         "locationmode": "USA-states",
         "locations": [
          "CT"
         ],
         "mode": "text",
         "showlegend": false,
         "text": "CT",
         "type": "scattergeo"
        },
        {
         "locationmode": "USA-states",
         "locations": [
          "DE"
         ],
         "mode": "text",
         "showlegend": false,
         "text": "DE",
         "type": "scattergeo"
        },
        {
         "locationmode": "USA-states",
         "locations": [
          "DC"
         ],
         "mode": "text",
         "showlegend": false,
         "text": "DC",
         "type": "scattergeo"
        },
        {
         "locationmode": "USA-states",
         "locations": [
          "FL"
         ],
         "mode": "text",
         "showlegend": false,
         "text": "FL",
         "type": "scattergeo"
        },
        {
         "locationmode": "USA-states",
         "locations": [
          "GA"
         ],
         "mode": "text",
         "showlegend": false,
         "text": "GA",
         "type": "scattergeo"
        },
        {
         "locationmode": "USA-states",
         "locations": [
          "HI"
         ],
         "mode": "text",
         "showlegend": false,
         "text": "HI",
         "type": "scattergeo"
        },
        {
         "locationmode": "USA-states",
         "locations": [
          "ID"
         ],
         "mode": "text",
         "showlegend": false,
         "text": "ID",
         "type": "scattergeo"
        },
        {
         "locationmode": "USA-states",
         "locations": [
          "IL"
         ],
         "mode": "text",
         "showlegend": false,
         "text": "IL",
         "type": "scattergeo"
        },
        {
         "locationmode": "USA-states",
         "locations": [
          "IN"
         ],
         "mode": "text",
         "showlegend": false,
         "text": "IN",
         "type": "scattergeo"
        },
        {
         "locationmode": "USA-states",
         "locations": [
          "IA"
         ],
         "mode": "text",
         "showlegend": false,
         "text": "IA",
         "type": "scattergeo"
        },
        {
         "locationmode": "USA-states",
         "locations": [
          "KS"
         ],
         "mode": "text",
         "showlegend": false,
         "text": "KS",
         "type": "scattergeo"
        },
        {
         "locationmode": "USA-states",
         "locations": [
          "KY"
         ],
         "mode": "text",
         "showlegend": false,
         "text": "KY",
         "type": "scattergeo"
        },
        {
         "locationmode": "USA-states",
         "locations": [
          "LA"
         ],
         "mode": "text",
         "showlegend": false,
         "text": "LA",
         "type": "scattergeo"
        },
        {
         "locationmode": "USA-states",
         "locations": [
          "ME"
         ],
         "mode": "text",
         "showlegend": false,
         "text": "ME",
         "type": "scattergeo"
        },
        {
         "locationmode": "USA-states",
         "locations": [
          "MD"
         ],
         "mode": "text",
         "showlegend": false,
         "text": "MD",
         "type": "scattergeo"
        },
        {
         "locationmode": "USA-states",
         "locations": [
          "MA"
         ],
         "mode": "text",
         "showlegend": false,
         "text": "MA",
         "type": "scattergeo"
        },
        {
         "locationmode": "USA-states",
         "locations": [
          "MI"
         ],
         "mode": "text",
         "showlegend": false,
         "text": "MI",
         "type": "scattergeo"
        },
        {
         "locationmode": "USA-states",
         "locations": [
          "MN"
         ],
         "mode": "text",
         "showlegend": false,
         "text": "MN",
         "type": "scattergeo"
        },
        {
         "locationmode": "USA-states",
         "locations": [
          "MS"
         ],
         "mode": "text",
         "showlegend": false,
         "text": "MS",
         "type": "scattergeo"
        },
        {
         "locationmode": "USA-states",
         "locations": [
          "MO"
         ],
         "mode": "text",
         "showlegend": false,
         "text": "MO",
         "type": "scattergeo"
        },
        {
         "locationmode": "USA-states",
         "locations": [
          "MT"
         ],
         "mode": "text",
         "showlegend": false,
         "text": "MT",
         "type": "scattergeo"
        },
        {
         "locationmode": "USA-states",
         "locations": [
          "NE"
         ],
         "mode": "text",
         "showlegend": false,
         "text": "NE",
         "type": "scattergeo"
        },
        {
         "locationmode": "USA-states",
         "locations": [
          "NV"
         ],
         "mode": "text",
         "showlegend": false,
         "text": "NV",
         "type": "scattergeo"
        },
        {
         "locationmode": "USA-states",
         "locations": [
          "NH"
         ],
         "mode": "text",
         "showlegend": false,
         "text": "NH",
         "type": "scattergeo"
        },
        {
         "locationmode": "USA-states",
         "locations": [
          "NJ"
         ],
         "mode": "text",
         "showlegend": false,
         "text": "NJ",
         "type": "scattergeo"
        },
        {
         "locationmode": "USA-states",
         "locations": [
          "NM"
         ],
         "mode": "text",
         "showlegend": false,
         "text": "NM",
         "type": "scattergeo"
        },
        {
         "locationmode": "USA-states",
         "locations": [
          "NY"
         ],
         "mode": "text",
         "showlegend": false,
         "text": "NY",
         "type": "scattergeo"
        },
        {
         "locationmode": "USA-states",
         "locations": [
          "NC"
         ],
         "mode": "text",
         "showlegend": false,
         "text": "NC",
         "type": "scattergeo"
        },
        {
         "locationmode": "USA-states",
         "locations": [
          "ND"
         ],
         "mode": "text",
         "showlegend": false,
         "text": "ND",
         "type": "scattergeo"
        },
        {
         "locationmode": "USA-states",
         "locations": [
          "OH"
         ],
         "mode": "text",
         "showlegend": false,
         "text": "OH",
         "type": "scattergeo"
        },
        {
         "locationmode": "USA-states",
         "locations": [
          "OK"
         ],
         "mode": "text",
         "showlegend": false,
         "text": "OK",
         "type": "scattergeo"
        },
        {
         "locationmode": "USA-states",
         "locations": [
          "OR"
         ],
         "mode": "text",
         "showlegend": false,
         "text": "OR",
         "type": "scattergeo"
        },
        {
         "locationmode": "USA-states",
         "locations": [
          "PA"
         ],
         "mode": "text",
         "showlegend": false,
         "text": "PA",
         "type": "scattergeo"
        },
        {
         "locationmode": "USA-states",
         "locations": [
          "RI"
         ],
         "mode": "text",
         "showlegend": false,
         "text": "RI",
         "type": "scattergeo"
        },
        {
         "locationmode": "USA-states",
         "locations": [
          "SC"
         ],
         "mode": "text",
         "showlegend": false,
         "text": "SC",
         "type": "scattergeo"
        },
        {
         "locationmode": "USA-states",
         "locations": [
          "SD"
         ],
         "mode": "text",
         "showlegend": false,
         "text": "SD",
         "type": "scattergeo"
        },
        {
         "locationmode": "USA-states",
         "locations": [
          "TN"
         ],
         "mode": "text",
         "showlegend": false,
         "text": "TN",
         "type": "scattergeo"
        },
        {
         "locationmode": "USA-states",
         "locations": [
          "TX"
         ],
         "mode": "text",
         "showlegend": false,
         "text": "TX",
         "type": "scattergeo"
        },
        {
         "locationmode": "USA-states",
         "locations": [
          "UT"
         ],
         "mode": "text",
         "showlegend": false,
         "text": "UT",
         "type": "scattergeo"
        },
        {
         "locationmode": "USA-states",
         "locations": [
          "VT"
         ],
         "mode": "text",
         "showlegend": false,
         "text": "VT",
         "type": "scattergeo"
        },
        {
         "locationmode": "USA-states",
         "locations": [
          "VA"
         ],
         "mode": "text",
         "showlegend": false,
         "text": "VA",
         "type": "scattergeo"
        },
        {
         "locationmode": "USA-states",
         "locations": [
          "WA"
         ],
         "mode": "text",
         "showlegend": false,
         "text": "WA",
         "type": "scattergeo"
        },
        {
         "locationmode": "USA-states",
         "locations": [
          "WV"
         ],
         "mode": "text",
         "showlegend": false,
         "text": "WV",
         "type": "scattergeo"
        },
        {
         "locationmode": "USA-states",
         "locations": [
          "WI"
         ],
         "mode": "text",
         "showlegend": false,
         "text": "WI",
         "type": "scattergeo"
        },
        {
         "locationmode": "USA-states",
         "locations": [
          "WY"
         ],
         "mode": "text",
         "showlegend": false,
         "text": "WY",
         "type": "scattergeo"
        }
       ],
       "layout": {
        "autosize": true,
        "geo": {
         "center": {},
         "domain": {
          "x": [
           0,
           1
          ],
          "y": [
           0,
           1
          ]
         },
         "lakecolor": "lightblue",
         "scope": "usa",
         "showlakes": true
        },
        "legend": {
         "title": {
          "text": "Winner"
         },
         "tracegroupgap": 0
        },
        "margin": {
         "t": 60
        },
        "template": {
         "data": {
          "bar": [
           {
            "error_x": {
             "color": "#2a3f5f"
            },
            "error_y": {
             "color": "#2a3f5f"
            },
            "marker": {
             "line": {
              "color": "#E5ECF6",
              "width": 0.5
             },
             "pattern": {
              "fillmode": "overlay",
              "size": 10,
              "solidity": 0.2
             }
            },
            "type": "bar"
           }
          ],
          "barpolar": [
           {
            "marker": {
             "line": {
              "color": "#E5ECF6",
              "width": 0.5
             },
             "pattern": {
              "fillmode": "overlay",
              "size": 10,
              "solidity": 0.2
             }
            },
            "type": "barpolar"
           }
          ],
          "carpet": [
           {
            "aaxis": {
             "endlinecolor": "#2a3f5f",
             "gridcolor": "white",
             "linecolor": "white",
             "minorgridcolor": "white",
             "startlinecolor": "#2a3f5f"
            },
            "baxis": {
             "endlinecolor": "#2a3f5f",
             "gridcolor": "white",
             "linecolor": "white",
             "minorgridcolor": "white",
             "startlinecolor": "#2a3f5f"
            },
            "type": "carpet"
           }
          ],
          "choropleth": [
           {
            "colorbar": {
             "outlinewidth": 0,
             "ticks": ""
            },
            "type": "choropleth"
           }
          ],
          "contour": [
           {
            "colorbar": {
             "outlinewidth": 0,
             "ticks": ""
            },
            "colorscale": [
             [
              0,
              "#0d0887"
             ],
             [
              0.1111111111111111,
              "#46039f"
             ],
             [
              0.2222222222222222,
              "#7201a8"
             ],
             [
              0.3333333333333333,
              "#9c179e"
             ],
             [
              0.4444444444444444,
              "#bd3786"
             ],
             [
              0.5555555555555556,
              "#d8576b"
             ],
             [
              0.6666666666666666,
              "#ed7953"
             ],
             [
              0.7777777777777778,
              "#fb9f3a"
             ],
             [
              0.8888888888888888,
              "#fdca26"
             ],
             [
              1,
              "#f0f921"
             ]
            ],
            "type": "contour"
           }
          ],
          "contourcarpet": [
           {
            "colorbar": {
             "outlinewidth": 0,
             "ticks": ""
            },
            "type": "contourcarpet"
           }
          ],
          "heatmap": [
           {
            "colorbar": {
             "outlinewidth": 0,
             "ticks": ""
            },
            "colorscale": [
             [
              0,
              "#0d0887"
             ],
             [
              0.1111111111111111,
              "#46039f"
             ],
             [
              0.2222222222222222,
              "#7201a8"
             ],
             [
              0.3333333333333333,
              "#9c179e"
             ],
             [
              0.4444444444444444,
              "#bd3786"
             ],
             [
              0.5555555555555556,
              "#d8576b"
             ],
             [
              0.6666666666666666,
              "#ed7953"
             ],
             [
              0.7777777777777778,
              "#fb9f3a"
             ],
             [
              0.8888888888888888,
              "#fdca26"
             ],
             [
              1,
              "#f0f921"
             ]
            ],
            "type": "heatmap"
           }
          ],
          "heatmapgl": [
           {
            "colorbar": {
             "outlinewidth": 0,
             "ticks": ""
            },
            "colorscale": [
             [
              0,
              "#0d0887"
             ],
             [
              0.1111111111111111,
              "#46039f"
             ],
             [
              0.2222222222222222,
              "#7201a8"
             ],
             [
              0.3333333333333333,
              "#9c179e"
             ],
             [
              0.4444444444444444,
              "#bd3786"
             ],
             [
              0.5555555555555556,
              "#d8576b"
             ],
             [
              0.6666666666666666,
              "#ed7953"
             ],
             [
              0.7777777777777778,
              "#fb9f3a"
             ],
             [
              0.8888888888888888,
              "#fdca26"
             ],
             [
              1,
              "#f0f921"
             ]
            ],
            "type": "heatmapgl"
           }
          ],
          "histogram": [
           {
            "marker": {
             "pattern": {
              "fillmode": "overlay",
              "size": 10,
              "solidity": 0.2
             }
            },
            "type": "histogram"
           }
          ],
          "histogram2d": [
           {
            "colorbar": {
             "outlinewidth": 0,
             "ticks": ""
            },
            "colorscale": [
             [
              0,
              "#0d0887"
             ],
             [
              0.1111111111111111,
              "#46039f"
             ],
             [
              0.2222222222222222,
              "#7201a8"
             ],
             [
              0.3333333333333333,
              "#9c179e"
             ],
             [
              0.4444444444444444,
              "#bd3786"
             ],
             [
              0.5555555555555556,
              "#d8576b"
             ],
             [
              0.6666666666666666,
              "#ed7953"
             ],
             [
              0.7777777777777778,
              "#fb9f3a"
             ],
             [
              0.8888888888888888,
              "#fdca26"
             ],
             [
              1,
              "#f0f921"
             ]
            ],
            "type": "histogram2d"
           }
          ],
          "histogram2dcontour": [
           {
            "colorbar": {
             "outlinewidth": 0,
             "ticks": ""
            },
            "colorscale": [
             [
              0,
              "#0d0887"
             ],
             [
              0.1111111111111111,
              "#46039f"
             ],
             [
              0.2222222222222222,
              "#7201a8"
             ],
             [
              0.3333333333333333,
              "#9c179e"
             ],
             [
              0.4444444444444444,
              "#bd3786"
             ],
             [
              0.5555555555555556,
              "#d8576b"
             ],
             [
              0.6666666666666666,
              "#ed7953"
             ],
             [
              0.7777777777777778,
              "#fb9f3a"
             ],
             [
              0.8888888888888888,
              "#fdca26"
             ],
             [
              1,
              "#f0f921"
             ]
            ],
            "type": "histogram2dcontour"
           }
          ],
          "mesh3d": [
           {
            "colorbar": {
             "outlinewidth": 0,
             "ticks": ""
            },
            "type": "mesh3d"
           }
          ],
          "parcoords": [
           {
            "line": {
             "colorbar": {
              "outlinewidth": 0,
              "ticks": ""
             }
            },
            "type": "parcoords"
           }
          ],
          "pie": [
           {
            "automargin": true,
            "type": "pie"
           }
          ],
          "scatter": [
           {
            "fillpattern": {
             "fillmode": "overlay",
             "size": 10,
             "solidity": 0.2
            },
            "type": "scatter"
           }
          ],
          "scatter3d": [
           {
            "line": {
             "colorbar": {
              "outlinewidth": 0,
              "ticks": ""
             }
            },
            "marker": {
             "colorbar": {
              "outlinewidth": 0,
              "ticks": ""
             }
            },
            "type": "scatter3d"
           }
          ],
          "scattercarpet": [
           {
            "marker": {
             "colorbar": {
              "outlinewidth": 0,
              "ticks": ""
             }
            },
            "type": "scattercarpet"
           }
          ],
          "scattergeo": [
           {
            "marker": {
             "colorbar": {
              "outlinewidth": 0,
              "ticks": ""
             }
            },
            "type": "scattergeo"
           }
          ],
          "scattergl": [
           {
            "marker": {
             "colorbar": {
              "outlinewidth": 0,
              "ticks": ""
             }
            },
            "type": "scattergl"
           }
          ],
          "scattermapbox": [
           {
            "marker": {
             "colorbar": {
              "outlinewidth": 0,
              "ticks": ""
             }
            },
            "type": "scattermapbox"
           }
          ],
          "scatterpolar": [
           {
            "marker": {
             "colorbar": {
              "outlinewidth": 0,
              "ticks": ""
             }
            },
            "type": "scatterpolar"
           }
          ],
          "scatterpolargl": [
           {
            "marker": {
             "colorbar": {
              "outlinewidth": 0,
              "ticks": ""
             }
            },
            "type": "scatterpolargl"
           }
          ],
          "scatterternary": [
           {
            "marker": {
             "colorbar": {
              "outlinewidth": 0,
              "ticks": ""
             }
            },
            "type": "scatterternary"
           }
          ],
          "surface": [
           {
            "colorbar": {
             "outlinewidth": 0,
             "ticks": ""
            },
            "colorscale": [
             [
              0,
              "#0d0887"
             ],
             [
              0.1111111111111111,
              "#46039f"
             ],
             [
              0.2222222222222222,
              "#7201a8"
             ],
             [
              0.3333333333333333,
              "#9c179e"
             ],
             [
              0.4444444444444444,
              "#bd3786"
             ],
             [
              0.5555555555555556,
              "#d8576b"
             ],
             [
              0.6666666666666666,
              "#ed7953"
             ],
             [
              0.7777777777777778,
              "#fb9f3a"
             ],
             [
              0.8888888888888888,
              "#fdca26"
             ],
             [
              1,
              "#f0f921"
             ]
            ],
            "type": "surface"
           }
          ],
          "table": [
           {
            "cells": {
             "fill": {
              "color": "#EBF0F8"
             },
             "line": {
              "color": "white"
             }
            },
            "header": {
             "fill": {
              "color": "#C8D4E3"
             },
             "line": {
              "color": "white"
             }
            },
            "type": "table"
           }
          ]
         },
         "layout": {
          "annotationdefaults": {
           "arrowcolor": "#2a3f5f",
           "arrowhead": 0,
           "arrowwidth": 1
          },
          "autotypenumbers": "strict",
          "coloraxis": {
           "colorbar": {
            "outlinewidth": 0,
            "ticks": ""
           }
          },
          "colorscale": {
           "diverging": [
            [
             0,
             "#8e0152"
            ],
            [
             0.1,
             "#c51b7d"
            ],
            [
             0.2,
             "#de77ae"
            ],
            [
             0.3,
             "#f1b6da"
            ],
            [
             0.4,
             "#fde0ef"
            ],
            [
             0.5,
             "#f7f7f7"
            ],
            [
             0.6,
             "#e6f5d0"
            ],
            [
             0.7,
             "#b8e186"
            ],
            [
             0.8,
             "#7fbc41"
            ],
            [
             0.9,
             "#4d9221"
            ],
            [
             1,
             "#276419"
            ]
           ],
           "sequential": [
            [
             0,
             "#0d0887"
            ],
            [
             0.1111111111111111,
             "#46039f"
            ],
            [
             0.2222222222222222,
             "#7201a8"
            ],
            [
             0.3333333333333333,
             "#9c179e"
            ],
            [
             0.4444444444444444,
             "#bd3786"
            ],
            [
             0.5555555555555556,
             "#d8576b"
            ],
            [
             0.6666666666666666,
             "#ed7953"
            ],
            [
             0.7777777777777778,
             "#fb9f3a"
            ],
            [
             0.8888888888888888,
             "#fdca26"
            ],
            [
             1,
             "#f0f921"
            ]
           ],
           "sequentialminus": [
            [
             0,
             "#0d0887"
            ],
            [
             0.1111111111111111,
             "#46039f"
            ],
            [
             0.2222222222222222,
             "#7201a8"
            ],
            [
             0.3333333333333333,
             "#9c179e"
            ],
            [
             0.4444444444444444,
             "#bd3786"
            ],
            [
             0.5555555555555556,
             "#d8576b"
            ],
            [
             0.6666666666666666,
             "#ed7953"
            ],
            [
             0.7777777777777778,
             "#fb9f3a"
            ],
            [
             0.8888888888888888,
             "#fdca26"
            ],
            [
             1,
             "#f0f921"
            ]
           ]
          },
          "colorway": [
           "#636efa",
           "#EF553B",
           "#00cc96",
           "#ab63fa",
           "#FFA15A",
           "#19d3f3",
           "#FF6692",
           "#B6E880",
           "#FF97FF",
           "#FECB52"
          ],
          "font": {
           "color": "#2a3f5f"
          },
          "geo": {
           "bgcolor": "white",
           "lakecolor": "white",
           "landcolor": "#E5ECF6",
           "showlakes": true,
           "showland": true,
           "subunitcolor": "white"
          },
          "hoverlabel": {
           "align": "left"
          },
          "hovermode": "closest",
          "mapbox": {
           "style": "light"
          },
          "paper_bgcolor": "white",
          "plot_bgcolor": "#E5ECF6",
          "polar": {
           "angularaxis": {
            "gridcolor": "white",
            "linecolor": "white",
            "ticks": ""
           },
           "bgcolor": "#E5ECF6",
           "radialaxis": {
            "gridcolor": "white",
            "linecolor": "white",
            "ticks": ""
           }
          },
          "scene": {
           "xaxis": {
            "backgroundcolor": "#E5ECF6",
            "gridcolor": "white",
            "gridwidth": 2,
            "linecolor": "white",
            "showbackground": true,
            "ticks": "",
            "zerolinecolor": "white"
           },
           "yaxis": {
            "backgroundcolor": "#E5ECF6",
            "gridcolor": "white",
            "gridwidth": 2,
            "linecolor": "white",
            "showbackground": true,
            "ticks": "",
            "zerolinecolor": "white"
           },
           "zaxis": {
            "backgroundcolor": "#E5ECF6",
            "gridcolor": "white",
            "gridwidth": 2,
            "linecolor": "white",
            "showbackground": true,
            "ticks": "",
            "zerolinecolor": "white"
           }
          },
          "shapedefaults": {
           "line": {
            "color": "#2a3f5f"
           }
          },
          "ternary": {
           "aaxis": {
            "gridcolor": "white",
            "linecolor": "white",
            "ticks": ""
           },
           "baxis": {
            "gridcolor": "white",
            "linecolor": "white",
            "ticks": ""
           },
           "bgcolor": "#E5ECF6",
           "caxis": {
            "gridcolor": "white",
            "linecolor": "white",
            "ticks": ""
           }
          },
          "title": {
           "x": 0.05
          },
          "xaxis": {
           "automargin": true,
           "gridcolor": "white",
           "linecolor": "white",
           "ticks": "",
           "title": {
            "standoff": 15
           },
           "zerolinecolor": "white",
           "zerolinewidth": 2
          },
          "yaxis": {
           "automargin": true,
           "gridcolor": "white",
           "linecolor": "white",
           "ticks": "",
           "title": {
            "standoff": 15
           },
           "zerolinecolor": "white",
           "zerolinewidth": 2
          }
         }
        },
        "title": {
         "text": "2024 U.S. Presidential Election Results"
        }
       }
      },
      "image/png": "[encoded data removed]",
      "text/html": [
       "<div>                            <div id=\"c3986100-6ca1-4ba7-a30a-97b77e1e8cd2\" class=\"plotly-graph-div\" style=\"height:525px; width:100%;\"></div>            <script type=\"text/javascript\">                require([\"plotly\"], function(Plotly) {                    window.PLOTLYENV=window.PLOTLYENV || {};                                    if (document.getElementById(\"c3986100-6ca1-4ba7-a30a-97b77e1e8cd2\")) {                    Plotly.newPlot(                        \"c3986100-6ca1-4ba7-a30a-97b77e1e8cd2\",                        [{\"colorscale\":[[0.0,\"red\"],[1.0,\"red\"]],\"geo\":\"geo\",\"hovertemplate\":\"\\u003cb\\u003e%{hovertext}\\u003c\\u002fb\\u003e\\u003cbr\\u003e\\u003cbr\\u003eWinner=Trump\\u003cbr\\u003eState_Code=%{location}\\u003cextra\\u003e\\u003c\\u002fextra\\u003e\",\"hovertext\":[\"Alabama\",\"Alaska\",\"Arizona\",\"Arkansas\",\"District of Columbia\",\"Florida\",\"Georgia\",\"Hawaii\",\"Idaho\",\"Indiana\",\"Iowa\",\"Kansas\",\"Kentucky\",\"Louisiana\",\"Michigan\",\"Mississippi\",\"Missouri\",\"Montana\",\"Nebraska\",\"Nevada\",\"North Carolina\",\"North Dakota\",\"Ohio\",\"Oklahoma\",\"Pennsylvania\",\"South Carolina\",\"South Dakota\",\"Tennessee\",\"Texas\",\"Utah\",\"West Virginia\",\"Wisconsin\",\"Wyoming\"],\"locationmode\":\"USA-states\",\"locations\":[\"AL\",\"AK\",\"AZ\",\"AR\",\"DC\",\"FL\",\"GA\",\"HI\",\"ID\",\"IN\",\"IA\",\"KS\",\"KY\",\"LA\",\"MI\",\"MS\",\"MO\",\"MT\",\"NE\",\"NV\",\"NC\",\"ND\",\"OH\",\"OK\",\"PA\",\"SC\",\"SD\",\"TN\",\"TX\",\"UT\",\"WV\",\"WI\",\"WY\"],\"name\":\"Trump\",\"showlegend\":true,\"showscale\":false,\"z\":[1,1,1,1,1,1,1,1,1,1,1,1,1,1,1,1,1,1,1,1,1,1,1,1,1,1,1,1,1,1,1,1,1],\"type\":\"choropleth\"},{\"colorscale\":[[0.0,\"blue\"],[1.0,\"blue\"]],\"geo\":\"geo\",\"hovertemplate\":\"\\u003cb\\u003e%{hovertext}\\u003c\\u002fb\\u003e\\u003cbr\\u003e\\u003cbr\\u003eWinner=Biden\\u002fHarris\\u003cbr\\u003eState_Code=%{location}\\u003cextra\\u003e\\u003c\\u002fextra\\u003e\",\"hovertext\":[\"California\",\"Colorado\",\"Connecticut\",\"Delaware\",\"Illinois\",\"Maine\",\"Maryland\",\"Massachusetts\",\"Minnesota\",\"New Hampshire\",\"New Jersey\",\"New Mexico\",\"New York\",\"Oregon\",\"Rhode Island\",\"Vermont\",\"Virginia\",\"Washington\"],\"locationmode\":\"USA-states\",\"locations\":[\"CA\",\"CO\",\"CT\",\"DE\",\"IL\",\"ME\",\"MD\",\"MA\",\"MN\",\"NH\",\"NJ\",\"NM\",\"NY\",\"OR\",\"RI\",\"VT\",\"VA\",\"WA\"],\"name\":\"Biden\\u002fHarris\",\"showlegend\":true,\"showscale\":false,\"z\":[1,1,1,1,1,1,1,1,1,1,1,1,1,1,1,1,1,1],\"type\":\"choropleth\"},{\"locationmode\":\"USA-states\",\"locations\":[\"AL\"],\"mode\":\"text\",\"showlegend\":false,\"text\":\"AL\",\"type\":\"scattergeo\"},{\"locationmode\":\"USA-states\",\"locations\":[\"AK\"],\"mode\":\"text\",\"showlegend\":false,\"text\":\"AK\",\"type\":\"scattergeo\"},{\"locationmode\":\"USA-states\",\"locations\":[\"AZ\"],\"mode\":\"text\",\"showlegend\":false,\"text\":\"AZ\",\"type\":\"scattergeo\"},{\"locationmode\":\"USA-states\",\"locations\":[\"AR\"],\"mode\":\"text\",\"showlegend\":false,\"text\":\"AR\",\"type\":\"scattergeo\"},{\"locationmode\":\"USA-states\",\"locations\":[\"CA\"],\"mode\":\"text\",\"showlegend\":false,\"text\":\"CA\",\"type\":\"scattergeo\"},{\"locationmode\":\"USA-states\",\"locations\":[\"CO\"],\"mode\":\"text\",\"showlegend\":false,\"text\":\"CO\",\"type\":\"scattergeo\"},{\"locationmode\":\"USA-states\",\"locations\":[\"CT\"],\"mode\":\"text\",\"showlegend\":false,\"text\":\"CT\",\"type\":\"scattergeo\"},{\"locationmode\":\"USA-states\",\"locations\":[\"DE\"],\"mode\":\"text\",\"showlegend\":false,\"text\":\"DE\",\"type\":\"scattergeo\"},{\"locationmode\":\"USA-states\",\"locations\":[\"DC\"],\"mode\":\"text\",\"showlegend\":false,\"text\":\"DC\",\"type\":\"scattergeo\"},{\"locationmode\":\"USA-states\",\"locations\":[\"FL\"],\"mode\":\"text\",\"showlegend\":false,\"text\":\"FL\",\"type\":\"scattergeo\"},{\"locationmode\":\"USA-states\",\"locations\":[\"GA\"],\"mode\":\"text\",\"showlegend\":false,\"text\":\"GA\",\"type\":\"scattergeo\"},{\"locationmode\":\"USA-states\",\"locations\":[\"HI\"],\"mode\":\"text\",\"showlegend\":false,\"text\":\"HI\",\"type\":\"scattergeo\"},{\"locationmode\":\"USA-states\",\"locations\":[\"ID\"],\"mode\":\"text\",\"showlegend\":false,\"text\":\"ID\",\"type\":\"scattergeo\"},{\"locationmode\":\"USA-states\",\"locations\":[\"IL\"],\"mode\":\"text\",\"showlegend\":false,\"text\":\"IL\",\"type\":\"scattergeo\"},{\"locationmode\":\"USA-states\",\"locations\":[\"IN\"],\"mode\":\"text\",\"showlegend\":false,\"text\":\"IN\",\"type\":\"scattergeo\"},{\"locationmode\":\"USA-states\",\"locations\":[\"IA\"],\"mode\":\"text\",\"showlegend\":false,\"text\":\"IA\",\"type\":\"scattergeo\"},{\"locationmode\":\"USA-states\",\"locations\":[\"KS\"],\"mode\":\"text\",\"showlegend\":false,\"text\":\"KS\",\"type\":\"scattergeo\"},{\"locationmode\":\"USA-states\",\"locations\":[\"KY\"],\"mode\":\"text\",\"showlegend\":false,\"text\":\"KY\",\"type\":\"scattergeo\"},{\"locationmode\":\"USA-states\",\"locations\":[\"LA\"],\"mode\":\"text\",\"showlegend\":false,\"text\":\"LA\",\"type\":\"scattergeo\"},{\"locationmode\":\"USA-states\",\"locations\":[\"ME\"],\"mode\":\"text\",\"showlegend\":false,\"text\":\"ME\",\"type\":\"scattergeo\"},{\"locationmode\":\"USA-states\",\"locations\":[\"MD\"],\"mode\":\"text\",\"showlegend\":false,\"text\":\"MD\",\"type\":\"scattergeo\"},{\"locationmode\":\"USA-states\",\"locations\":[\"MA\"],\"mode\":\"text\",\"showlegend\":false,\"text\":\"MA\",\"type\":\"scattergeo\"},{\"locationmode\":\"USA-states\",\"locations\":[\"MI\"],\"mode\":\"text\",\"showlegend\":false,\"text\":\"MI\",\"type\":\"scattergeo\"},{\"locationmode\":\"USA-states\",\"locations\":[\"MN\"],\"mode\":\"text\",\"showlegend\":false,\"text\":\"MN\",\"type\":\"scattergeo\"},{\"locationmode\":\"USA-states\",\"locations\":[\"MS\"],\"mode\":\"text\",\"showlegend\":false,\"text\":\"MS\",\"type\":\"scattergeo\"},{\"locationmode\":\"USA-states\",\"locations\":[\"MO\"],\"mode\":\"text\",\"showlegend\":false,\"text\":\"MO\",\"type\":\"scattergeo\"},{\"locationmode\":\"USA-states\",\"locations\":[\"MT\"],\"mode\":\"text\",\"showlegend\":false,\"text\":\"MT\",\"type\":\"scattergeo\"},{\"locationmode\":\"USA-states\",\"locations\":[\"NE\"],\"mode\":\"text\",\"showlegend\":false,\"text\":\"NE\",\"type\":\"scattergeo\"},{\"locationmode\":\"USA-states\",\"locations\":[\"NV\"],\"mode\":\"text\",\"showlegend\":false,\"text\":\"NV\",\"type\":\"scattergeo\"},{\"locationmode\":\"USA-states\",\"locations\":[\"NH\"],\"mode\":\"text\",\"showlegend\":false,\"text\":\"NH\",\"type\":\"scattergeo\"},{\"locationmode\":\"USA-states\",\"locations\":[\"NJ\"],\"mode\":\"text\",\"showlegend\":false,\"text\":\"NJ\",\"type\":\"scattergeo\"},{\"locationmode\":\"USA-states\",\"locations\":[\"NM\"],\"mode\":\"text\",\"showlegend\":false,\"text\":\"NM\",\"type\":\"scattergeo\"},{\"locationmode\":\"USA-states\",\"locations\":[\"NY\"],\"mode\":\"text\",\"showlegend\":false,\"text\":\"NY\",\"type\":\"scattergeo\"},{\"locationmode\":\"USA-states\",\"locations\":[\"NC\"],\"mode\":\"text\",\"showlegend\":false,\"text\":\"NC\",\"type\":\"scattergeo\"},{\"locationmode\":\"USA-states\",\"locations\":[\"ND\"],\"mode\":\"text\",\"showlegend\":false,\"text\":\"ND\",\"type\":\"scattergeo\"},{\"locationmode\":\"USA-states\",\"locations\":[\"OH\"],\"mode\":\"text\",\"showlegend\":false,\"text\":\"OH\",\"type\":\"scattergeo\"},{\"locationmode\":\"USA-states\",\"locations\":[\"OK\"],\"mode\":\"text\",\"showlegend\":false,\"text\":\"OK\",\"type\":\"scattergeo\"},{\"locationmode\":\"USA-states\",\"locations\":[\"OR\"],\"mode\":\"text\",\"showlegend\":false,\"text\":\"OR\",\"type\":\"scattergeo\"},{\"locationmode\":\"USA-states\",\"locations\":[\"PA\"],\"mode\":\"text\",\"showlegend\":false,\"text\":\"PA\",\"type\":\"scattergeo\"},{\"locationmode\":\"USA-states\",\"locations\":[\"RI\"],\"mode\":\"text\",\"showlegend\":false,\"text\":\"RI\",\"type\":\"scattergeo\"},{\"locationmode\":\"USA-states\",\"locations\":[\"SC\"],\"mode\":\"text\",\"showlegend\":false,\"text\":\"SC\",\"type\":\"scattergeo\"},{\"locationmode\":\"USA-states\",\"locations\":[\"SD\"],\"mode\":\"text\",\"showlegend\":false,\"text\":\"SD\",\"type\":\"scattergeo\"},{\"locationmode\":\"USA-states\",\"locations\":[\"TN\"],\"mode\":\"text\",\"showlegend\":false,\"text\":\"TN\",\"type\":\"scattergeo\"},{\"locationmode\":\"USA-states\",\"locations\":[\"TX\"],\"mode\":\"text\",\"showlegend\":false,\"text\":\"TX\",\"type\":\"scattergeo\"},{\"locationmode\":\"USA-states\",\"locations\":[\"UT\"],\"mode\":\"text\",\"showlegend\":false,\"text\":\"UT\",\"type\":\"scattergeo\"},{\"locationmode\":\"USA-states\",\"locations\":[\"VT\"],\"mode\":\"text\",\"showlegend\":false,\"text\":\"VT\",\"type\":\"scattergeo\"},{\"locationmode\":\"USA-states\",\"locations\":[\"VA\"],\"mode\":\"text\",\"showlegend\":false,\"text\":\"VA\",\"type\":\"scattergeo\"},{\"locationmode\":\"USA-states\",\"locations\":[\"WA\"],\"mode\":\"text\",\"showlegend\":false,\"text\":\"WA\",\"type\":\"scattergeo\"},{\"locationmode\":\"USA-states\",\"locations\":[\"WV\"],\"mode\":\"text\",\"showlegend\":false,\"text\":\"WV\",\"type\":\"scattergeo\"},{\"locationmode\":\"USA-states\",\"locations\":[\"WI\"],\"mode\":\"text\",\"showlegend\":false,\"text\":\"WI\",\"type\":\"scattergeo\"},{\"locationmode\":\"USA-states\",\"locations\":[\"WY\"],\"mode\":\"text\",\"showlegend\":false,\"text\":\"WY\",\"type\":\"scattergeo\"}],                        {\"template\":{\"data\":{\"histogram2dcontour\":[{\"type\":\"histogram2dcontour\",\"colorbar\":{\"outlinewidth\":0,\"ticks\":\"\"},\"colorscale\":[[0.0,\"#0d0887\"],[0.1111111111111111,\"#46039f\"],[0.2222222222222222,\"#7201a8\"],[0.3333333333333333,\"#9c179e\"],[0.4444444444444444,\"#bd3786\"],[0.5555555555555556,\"#d8576b\"],[0.6666666666666666,\"#ed7953\"],[0.7777777777777778,\"#fb9f3a\"],[0.8888888888888888,\"#fdca26\"],[1.0,\"#f0f921\"]]}],\"choropleth\":[{\"type\":\"choropleth\",\"colorbar\":{\"outlinewidth\":0,\"ticks\":\"\"}}],\"histogram2d\":[{\"type\":\"histogram2d\",\"colorbar\":{\"outlinewidth\":0,\"ticks\":\"\"},\"colorscale\":[[0.0,\"#0d0887\"],[0.1111111111111111,\"#46039f\"],[0.2222222222222222,\"#7201a8\"],[0.3333333333333333,\"#9c179e\"],[0.4444444444444444,\"#bd3786\"],[0.5555555555555556,\"#d8576b\"],[0.6666666666666666,\"#ed7953\"],[0.7777777777777778,\"#fb9f3a\"],[0.8888888888888888,\"#fdca26\"],[1.0,\"#f0f921\"]]}],\"heatmap\":[{\"type\":\"heatmap\",\"colorbar\":{\"outlinewidth\":0,\"ticks\":\"\"},\"colorscale\":[[0.0,\"#0d0887\"],[0.1111111111111111,\"#46039f\"],[0.2222222222222222,\"#7201a8\"],[0.3333333333333333,\"#9c179e\"],[0.4444444444444444,\"#bd3786\"],[0.5555555555555556,\"#d8576b\"],[0.6666666666666666,\"#ed7953\"],[0.7777777777777778,\"#fb9f3a\"],[0.8888888888888888,\"#fdca26\"],[1.0,\"#f0f921\"]]}],\"heatmapgl\":[{\"type\":\"heatmapgl\",\"colorbar\":{\"outlinewidth\":0,\"ticks\":\"\"},\"colorscale\":[[0.0,\"#0d0887\"],[0.1111111111111111,\"#46039f\"],[0.2222222222222222,\"#7201a8\"],[0.3333333333333333,\"#9c179e\"],[0.4444444444444444,\"#bd3786\"],[0.5555555555555556,\"#d8576b\"],[0.6666666666666666,\"#ed7953\"],[0.7777777777777778,\"#fb9f3a\"],[0.8888888888888888,\"#fdca26\"],[1.0,\"#f0f921\"]]}],\"contourcarpet\":[{\"type\":\"contourcarpet\",\"colorbar\":{\"outlinewidth\":0,\"ticks\":\"\"}}],\"contour\":[{\"type\":\"contour\",\"colorbar\":{\"outlinewidth\":0,\"ticks\":\"\"},\"colorscale\":[[0.0,\"#0d0887\"],[0.1111111111111111,\"#46039f\"],[0.2222222222222222,\"#7201a8\"],[0.3333333333333333,\"#9c179e\"],[0.4444444444444444,\"#bd3786\"],[0.5555555555555556,\"#d8576b\"],[0.6666666666666666,\"#ed7953\"],[0.7777777777777778,\"#fb9f3a\"],[0.8888888888888888,\"#fdca26\"],[1.0,\"#f0f921\"]]}],\"surface\":[{\"type\":\"surface\",\"colorbar\":{\"outlinewidth\":0,\"ticks\":\"\"},\"colorscale\":[[0.0,\"#0d0887\"],[0.1111111111111111,\"#46039f\"],[0.2222222222222222,\"#7201a8\"],[0.3333333333333333,\"#9c179e\"],[0.4444444444444444,\"#bd3786\"],[0.5555555555555556,\"#d8576b\"],[0.6666666666666666,\"#ed7953\"],[0.7777777777777778,\"#fb9f3a\"],[0.8888888888888888,\"#fdca26\"],[1.0,\"#f0f921\"]]}],\"mesh3d\":[{\"type\":\"mesh3d\",\"colorbar\":{\"outlinewidth\":0,\"ticks\":\"\"}}],\"scatter\":[{\"fillpattern\":{\"fillmode\":\"overlay\",\"size\":10,\"solidity\":0.2},\"type\":\"scatter\"}],\"parcoords\":[{\"type\":\"parcoords\",\"line\":{\"colorbar\":{\"outlinewidth\":0,\"ticks\":\"\"}}}],\"scatterpolargl\":[{\"type\":\"scatterpolargl\",\"marker\":{\"colorbar\":{\"outlinewidth\":0,\"ticks\":\"\"}}}],\"bar\":[{\"error_x\":{\"color\":\"#2a3f5f\"},\"error_y\":{\"color\":\"#2a3f5f\"},\"marker\":{\"line\":{\"color\":\"#E5ECF6\",\"width\":0.5},\"pattern\":{\"fillmode\":\"overlay\",\"size\":10,\"solidity\":0.2}},\"type\":\"bar\"}],\"scattergeo\":[{\"type\":\"scattergeo\",\"marker\":{\"colorbar\":{\"outlinewidth\":0,\"ticks\":\"\"}}}],\"scatterpolar\":[{\"type\":\"scatterpolar\",\"marker\":{\"colorbar\":{\"outlinewidth\":0,\"ticks\":\"\"}}}],\"histogram\":[{\"marker\":{\"pattern\":{\"fillmode\":\"overlay\",\"size\":10,\"solidity\":0.2}},\"type\":\"histogram\"}],\"scattergl\":[{\"type\":\"scattergl\",\"marker\":{\"colorbar\":{\"outlinewidth\":0,\"ticks\":\"\"}}}],\"scatter3d\":[{\"type\":\"scatter3d\",\"line\":{\"colorbar\":{\"outlinewidth\":0,\"ticks\":\"\"}},\"marker\":{\"colorbar\":{\"outlinewidth\":0,\"ticks\":\"\"}}}],\"scattermapbox\":[{\"type\":\"scattermapbox\",\"marker\":{\"colorbar\":{\"outlinewidth\":0,\"ticks\":\"\"}}}],\"scatterternary\":[{\"type\":\"scatterternary\",\"marker\":{\"colorbar\":{\"outlinewidth\":0,\"ticks\":\"\"}}}],\"scattercarpet\":[{\"type\":\"scattercarpet\",\"marker\":{\"colorbar\":{\"outlinewidth\":0,\"ticks\":\"\"}}}],\"carpet\":[{\"aaxis\":{\"endlinecolor\":\"#2a3f5f\",\"gridcolor\":\"white\",\"linecolor\":\"white\",\"minorgridcolor\":\"white\",\"startlinecolor\":\"#2a3f5f\"},\"baxis\":{\"endlinecolor\":\"#2a3f5f\",\"gridcolor\":\"white\",\"linecolor\":\"white\",\"minorgridcolor\":\"white\",\"startlinecolor\":\"#2a3f5f\"},\"type\":\"carpet\"}],\"table\":[{\"cells\":{\"fill\":{\"color\":\"#EBF0F8\"},\"line\":{\"color\":\"white\"}},\"header\":{\"fill\":{\"color\":\"#C8D4E3\"},\"line\":{\"color\":\"white\"}},\"type\":\"table\"}],\"barpolar\":[{\"marker\":{\"line\":{\"color\":\"#E5ECF6\",\"width\":0.5},\"pattern\":{\"fillmode\":\"overlay\",\"size\":10,\"solidity\":0.2}},\"type\":\"barpolar\"}],\"pie\":[{\"automargin\":true,\"type\":\"pie\"}]},\"layout\":{\"autotypenumbers\":\"strict\",\"colorway\":[\"#636efa\",\"#EF553B\",\"#00cc96\",\"#ab63fa\",\"#FFA15A\",\"#19d3f3\",\"#FF6692\",\"#B6E880\",\"#FF97FF\",\"#FECB52\"],\"font\":{\"color\":\"#2a3f5f\"},\"hovermode\":\"closest\",\"hoverlabel\":{\"align\":\"left\"},\"paper_bgcolor\":\"white\",\"plot_bgcolor\":\"#E5ECF6\",\"polar\":{\"bgcolor\":\"#E5ECF6\",\"angularaxis\":{\"gridcolor\":\"white\",\"linecolor\":\"white\",\"ticks\":\"\"},\"radialaxis\":{\"gridcolor\":\"white\",\"linecolor\":\"white\",\"ticks\":\"\"}},\"ternary\":{\"bgcolor\":\"#E5ECF6\",\"aaxis\":{\"gridcolor\":\"white\",\"linecolor\":\"white\",\"ticks\":\"\"},\"baxis\":{\"gridcolor\":\"white\",\"linecolor\":\"white\",\"ticks\":\"\"},\"caxis\":{\"gridcolor\":\"white\",\"linecolor\":\"white\",\"ticks\":\"\"}},\"coloraxis\":{\"colorbar\":{\"outlinewidth\":0,\"ticks\":\"\"}},\"colorscale\":{\"sequential\":[[0.0,\"#0d0887\"],[0.1111111111111111,\"#46039f\"],[0.2222222222222222,\"#7201a8\"],[0.3333333333333333,\"#9c179e\"],[0.4444444444444444,\"#bd3786\"],[0.5555555555555556,\"#d8576b\"],[0.6666666666666666,\"#ed7953\"],[0.7777777777777778,\"#fb9f3a\"],[0.8888888888888888,\"#fdca26\"],[1.0,\"#f0f921\"]],\"sequentialminus\":[[0.0,\"#0d0887\"],[0.1111111111111111,\"#46039f\"],[0.2222222222222222,\"#7201a8\"],[0.3333333333333333,\"#9c179e\"],[0.4444444444444444,\"#bd3786\"],[0.5555555555555556,\"#d8576b\"],[0.6666666666666666,\"#ed7953\"],[0.7777777777777778,\"#fb9f3a\"],[0.8888888888888888,\"#fdca26\"],[1.0,\"#f0f921\"]],\"diverging\":[[0,\"#8e0152\"],[0.1,\"#c51b7d\"],[0.2,\"#de77ae\"],[0.3,\"#f1b6da\"],[0.4,\"#fde0ef\"],[0.5,\"#f7f7f7\"],[0.6,\"#e6f5d0\"],[0.7,\"#b8e186\"],[0.8,\"#7fbc41\"],[0.9,\"#4d9221\"],[1,\"#276419\"]]},\"xaxis\":{\"gridcolor\":\"white\",\"linecolor\":\"white\",\"ticks\":\"\",\"title\":{\"standoff\":15},\"zerolinecolor\":\"white\",\"automargin\":true,\"zerolinewidth\":2},\"yaxis\":{\"gridcolor\":\"white\",\"linecolor\":\"white\",\"ticks\":\"\",\"title\":{\"standoff\":15},\"zerolinecolor\":\"white\",\"automargin\":true,\"zerolinewidth\":2},\"scene\":{\"xaxis\":{\"backgroundcolor\":\"#E5ECF6\",\"gridcolor\":\"white\",\"linecolor\":\"white\",\"showbackground\":true,\"ticks\":\"\",\"zerolinecolor\":\"white\",\"gridwidth\":2},\"yaxis\":{\"backgroundcolor\":\"#E5ECF6\",\"gridcolor\":\"white\",\"linecolor\":\"white\",\"showbackground\":true,\"ticks\":\"\",\"zerolinecolor\":\"white\",\"gridwidth\":2},\"zaxis\":{\"backgroundcolor\":\"#E5ECF6\",\"gridcolor\":\"white\",\"linecolor\":\"white\",\"showbackground\":true,\"ticks\":\"\",\"zerolinecolor\":\"white\",\"gridwidth\":2}},\"shapedefaults\":{\"line\":{\"color\":\"#2a3f5f\"}},\"annotationdefaults\":{\"arrowcolor\":\"#2a3f5f\",\"arrowhead\":0,\"arrowwidth\":1},\"geo\":{\"bgcolor\":\"white\",\"landcolor\":\"#E5ECF6\",\"subunitcolor\":\"white\",\"showland\":true,\"showlakes\":true,\"lakecolor\":\"white\"},\"title\":{\"x\":0.05},\"mapbox\":{\"style\":\"light\"}}},\"geo\":{\"domain\":{\"x\":[0.0,1.0],\"y\":[0.0,1.0]},\"center\":{},\"scope\":\"usa\",\"showlakes\":true,\"lakecolor\":\"lightblue\"},\"legend\":{\"title\":{\"text\":\"Winner\"},\"tracegroupgap\":0},\"margin\":{\"t\":60},\"title\":{\"text\":\"2024 U.S. Presidential Election Results\"}},                        {\"responsive\": true}                    ).then(function(){\n",
       "                            \n",
       "var gd = document.getElementById('c3986100-6ca1-4ba7-a30a-97b77e1e8cd2');\n",
       "var x = new MutationObserver(function (mutations, observer) {{\n",
       "        var display = window.getComputedStyle(gd).display;\n",
       "        if (!display || display === 'none') {{\n",
       "            console.log([gd, 'removed!']);\n",
       "            Plotly.purge(gd);\n",
       "            observer.disconnect();\n",
       "        }}\n",
       "}});\n",
       "\n",
       "// Listen for the removal of the full notebook cells\n",
       "var notebookContainer = gd.closest('#notebook-container');\n",
       "if (notebookContainer) {{\n",
       "    x.observe(notebookContainer, {childList: true});\n",
       "}}\n",
       "\n",
       "// Listen for the clearing of the current output cell\n",
       "var outputEl = gd.closest('.output');\n",
       "if (outputEl) {{\n",
       "    x.observe(outputEl, {childList: true});\n",
       "}}\n",
       "\n",
       "                        })                };                });            </script>        </div>"
      ]
     },
     "metadata": {},
     "output_type": "display_data"
    }
   ],
   "source": [
    "# Determine the winner for each state\n",
    "def determine_winner(row):\n",
    "    if row[\"Kamala %\"] > row[\"Trump %_2024\"]:\n",
    "        return \"Biden/Harris\"\n",
    "    else:\n",
    "        return \"Trump\"\n",
    "\n",
    "merged_data[\"Winner\"] = merged_data.apply(determine_winner, axis=1)\n",
    "\n",
    "# Create the map using Plotly Express\n",
    "fig = px.choropleth(\n",
    "    merged_data,\n",
    "    locations=\"State_Code\",  # Column containing state abbreviations\n",
    "    locationmode=\"USA-states\",  # Map to USA states\n",
    "    color=\"Winner\",  # Column containing the winner (Biden/Harris or Trump)\n",
    "    hover_name=\"STATE_2020\",  # Info to show on hover\n",
    "    scope=\"usa\",  # Map scope limited to the USA\n",
    "    color_discrete_map={\"Trump\": \"red\", \"Biden/Harris\": \"blue\"},  # Assign colors\n",
    ")\n",
    "\n",
    "# Add state labels on the map\n",
    "for i, row in merged_data.iterrows():\n",
    "    fig.add_scattergeo(\n",
    "        locationmode='USA-states',\n",
    "        locations=[row[\"State_Code\"]],\n",
    "        text=row[\"State_Code\"],\n",
    "        mode='text',\n",
    "        showlegend=False\n",
    "    )\n",
    "\n",
    "# Update layout for better visualization\n",
    "fig.update_layout(\n",
    "    title_text=\"2024 U.S. Presidential Election Results\",\n",
    "    geo=dict(showlakes=True, lakecolor=\"lightblue\"),\n",
    ")\n",
    "\n",
    "# Show the map\n",
    "fig.show()"
   ]
  },
  {
   "cell_type": "markdown",
   "id": "9f71e0f4-6f46-4a2c-a008-3af33f64ae27",
   "metadata": {},
   "source": [
    "**Key findings:**\n",
    "\n",
    "\n",
    "1. **Regional Political Preferences**: The map highlights the regional divides in the 2024 presidential election, with strongholds for Trump in the southern and midwestern states, and significant support for Kamala Harris in the west and northeast.\n",
    "\n",
    "2. **Swing State Importance**: States such as Arizona, Pennsylvania, and Wisconsin remain critical battlegrounds with close contests, emphasizing their continued significance in deciding the election outcome.\n",
    "\n",
    "3. **State-by-State Insights**: The addition of state labels (state codes) makes it easy to identify specific states, enabling a detailed analysis of how individual states contributed to the overall electoral results."
   ]
  },
  {
   "cell_type": "code",
   "execution_count": null,
   "id": "e3b62ba4-a32f-4475-b811-b73cb2bfcbcf",
   "metadata": {},
   "outputs": [],
   "source": []
  }
 ],
 "metadata": {
  "kernelspec": {
   "display_name": "Python 3 (ipykernel)",
   "language": "python",
   "name": "python3"
  },
  "language_info": {
   "codemirror_mode": {
    "name": "ipython",
    "version": 3
   },
   "file_extension": ".py",
   "mimetype": "text/x-python",
   "name": "python",
   "nbconvert_exporter": "python",
   "pygments_lexer": "ipython3",
   "version": "3.11.7"
  }
 },
 "nbformat": 4,
 "nbformat_minor": 5
}
